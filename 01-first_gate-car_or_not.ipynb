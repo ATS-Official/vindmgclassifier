{
 "cells": [
  {
   "cell_type": "markdown",
   "metadata": {},
   "source": [
    "### data0 - all car images, including whole and damaged"
   ]
  },
  {
   "cell_type": "code",
   "execution_count": 1,
   "metadata": {},
   "outputs": [],
   "source": [
    "import urllib\n",
    "from IPython.display import Image, display, clear_output\n",
    "from collections import Counter, defaultdict\n",
    "\n",
    "import matplotlib.pyplot as plt\n",
    "import seaborn as sns \n",
    "%matplotlib inline\n",
    "\n",
    "import json\n",
    "import pickle as pk\n",
    "from sklearn.metrics import classification_report, confusion_matrix"
   ]
  },
  {
   "cell_type": "code",
   "execution_count": 22,
   "metadata": {},
   "outputs": [],
   "source": [
    "import os\n",
    "import h5py\n",
    "import numpy as np\n",
    "import pandas as pd\n",
    "\n",
    "\n",
    "from keras.preprocessing import image\n",
    "from keras.applications.vgg16 import preprocess_input\n",
    "\n",
    "from keras.utils.data_utils import get_file\n",
    "from keras.applications.resnet50 import ResNet50\n",
    "from keras.applications.vgg16 import VGG16\n",
    "from keras.applications.vgg19 import VGG19\n",
    "from keras.applications.inception_v3 import InceptionV3\n",
    "\n",
    "from keras.preprocessing.image import ImageDataGenerator, array_to_img, img_to_array, load_img\n",
    "from keras.models import Sequential, load_model\n",
    "from keras.layers import Convolution2D, MaxPooling2D, ZeroPadding2D\n",
    "from keras.layers import Activation, Dropout, Flatten, Dense\n",
    "from keras.utils.np_utils import to_categorical\n",
    "from keras import optimizers\n",
    "from keras.callbacks import ModelCheckpoint, History"
   ]
  },
  {
   "cell_type": "code",
   "execution_count": 23,
   "metadata": {},
   "outputs": [],
   "source": [
    "CLASS_INDEX = None\n",
    "CLASS_INDEX_PATH = 'https://s3.amazonaws.com/deep-learning-models/image-models/imagenet_class_index.json'"
   ]
  },
  {
   "cell_type": "code",
   "execution_count": 24,
   "metadata": {},
   "outputs": [],
   "source": [
    "# from Keras GitHub  \n",
    "def get_predictions(preds, top=5):\n",
    "    global CLASS_INDEX\n",
    "    if len(preds.shape) != 2 or preds.shape[1] != 1000:\n",
    "        raise ValueError('`decode_predictions` expects '\n",
    "                         'a batch of predictions '\n",
    "                         '(i.e. a 2D array of shape (samples, 1000)). '\n",
    "                         'Found array with shape: ' + str(preds.shape))\n",
    "    if CLASS_INDEX is None:\n",
    "        fpath = get_file('imagenet_class_index.json',\n",
    "                         CLASS_INDEX_PATH,\n",
    "                         cache_subdir='models')\n",
    "        CLASS_INDEX = json.load(open(fpath))\n",
    "    results = []\n",
    "    for pred in preds:\n",
    "        top_indices = pred.argsort()[-top:][::-1]\n",
    "        result = [tuple(CLASS_INDEX[str(i)]) + (pred[i],) for i in top_indices]\n",
    "        result.sort(key=lambda x: x[2], reverse=True)\n",
    "        results.append(result)\n",
    "    return results"
   ]
  },
  {
   "cell_type": "code",
   "execution_count": 25,
   "metadata": {},
   "outputs": [],
   "source": [
    "vgg16 = VGG16(weights='imagenet')"
   ]
  },
  {
   "cell_type": "code",
   "execution_count": 26,
   "metadata": {},
   "outputs": [],
   "source": [
    "vgg16.save('vgg16.h5')"
   ]
  },
  {
   "cell_type": "code",
   "execution_count": 27,
   "metadata": {},
   "outputs": [],
   "source": [
    "resnet50 = ResNet50(weights='imagenet')\n",
    "vgg19 = VGG19(weights='imagenet')\n",
    "inception = InceptionV3(weights='imagenet')"
   ]
  },
  {
   "cell_type": "code",
   "execution_count": 28,
   "metadata": {},
   "outputs": [
    {
     "data": {
      "image/jpeg": "[encoded data removed]",
      "text/plain": [
       "<IPython.core.display.Image object>"
      ]
     },
     "execution_count": 28,
     "metadata": {
      "image/jpeg": {
       "width": 200
      }
     },
     "output_type": "execute_result"
    }
   ],
   "source": [
    "Image('D://Data//CarDamage//data1a//validation//00-damage//0002.JPEG', width=200)"
   ]
  },
  {
   "cell_type": "code",
   "execution_count": 29,
   "metadata": {},
   "outputs": [],
   "source": [
    "def prepare_image(img_path):   \n",
    "    img = image.load_img(img_path, target_size=(224, 224))\n",
    "    x = image.img_to_array(img)\n",
    "    x = np.expand_dims(x, axis=0)\n",
    "    x = preprocess_input(x)\n",
    "    return x"
   ]
  },
  {
   "cell_type": "markdown",
   "metadata": {},
   "source": [
    "## Testing with different models"
   ]
  },
  {
   "cell_type": "code",
   "execution_count": 31,
   "metadata": {},
   "outputs": [
    {
     "data": {
      "text/plain": [
       "[[('n02814533', 'beach_wagon', 0.31424728),\n",
       "  ('n03770679', 'minivan', 0.18971202),\n",
       "  ('n03459775', 'grille', 0.13183281),\n",
       "  ('n03100240', 'convertible', 0.06641772),\n",
       "  ('n04285008', 'sports_car', 0.061572146)]]"
      ]
     },
     "execution_count": 31,
     "metadata": {},
     "output_type": "execute_result"
    }
   ],
   "source": [
    "y = prepare_image('D://Data//CarDamage//data1a//validation//00-damage//0002.JPEG')\n",
    "preds = vgg16.predict(y)\n",
    "get_predictions(preds, top=5)"
   ]
  },
  {
   "cell_type": "code",
   "execution_count": 33,
   "metadata": {},
   "outputs": [
    {
     "data": {
      "text/plain": [
       "[[('n02930766', 'cab', 0.64438653),\n",
       "  ('n02974003', 'car_wheel', 0.16860723),\n",
       "  ('n03891332', 'parking_meter', 0.04464175),\n",
       "  ('n04286575', 'spotlight', 0.022468317),\n",
       "  ('n04554684', 'washer', 0.016879473)]]"
      ]
     },
     "execution_count": 33,
     "metadata": {},
     "output_type": "execute_result"
    }
   ],
   "source": [
    "z = preprocess_input(x)\n",
    "preds = resnet50.predict(z)\n",
    "get_predictions(preds)"
   ]
  },
  {
   "cell_type": "code",
   "execution_count": 34,
   "metadata": {},
   "outputs": [
    {
     "data": {
      "text/plain": [
       "[[('n03770679', 'minivan', 0.84406114),\n",
       "  ('n02814533', 'beach_wagon', 0.05916267),\n",
       "  ('n04065272', 'recreational_vehicle', 0.036036033),\n",
       "  ('n03769881', 'minibus', 0.024208495),\n",
       "  ('n02974003', 'car_wheel', 0.009369253)]]"
      ]
     },
     "execution_count": 34,
     "metadata": {},
     "output_type": "execute_result"
    }
   ],
   "source": [
    "a = preprocess_input(x)\n",
    "preds = vgg19.predict(a)\n",
    "get_predictions(preds)"
   ]
  },
  {
   "cell_type": "markdown",
   "metadata": {},
   "source": [
    "## Using VGG16 as Gate"
   ]
  },
  {
   "cell_type": "code",
   "execution_count": 86,
   "metadata": {},
   "outputs": [],
   "source": [
    "def get_car_categories(img_dir):\n",
    "    d = defaultdict(float)\n",
    "    img_list = os.listdir(img_dir)\n",
    "    print(len(img_list))\n",
    "    for i, img_path in enumerate(img_list):        \n",
    "        img = prepare_image(img_dir+'//'+img_path)\n",
    "        out = vgg16.predict(img)\n",
    "        top = get_predictions(out, top=5)       \n",
    "        for j in top[0]:                     \n",
    "            d[j[0:2]] += j[2]            \n",
    "        #if i % 50 == 0:            \n",
    "            #print (i, '/', len(img_list), 'complete',Counter(d))            \n",
    "    return Counter(d)"
   ]
  },
  {
   "cell_type": "code",
   "execution_count": 87,
   "metadata": {
    "scrolled": true
   },
   "outputs": [
    {
     "name": "stdout",
     "output_type": "stream",
     "text": [
      "57\n",
      "1\n",
      "117\n",
      "2\n",
      "86\n",
      "3\n",
      "129\n",
      "4\n",
      "108\n",
      "5\n",
      "56\n",
      "6\n",
      "95\n",
      "Counter({('n04285008', 'sports_car'): 182.44803012907505, ('n03770679', 'minivan'): 59.434190782078076, ('n04037443', 'racer'): 53.06129289441742, ('n03100240', 'convertible'): 50.80976863100659, ('n02814533', 'beach_wagon'): 42.89918534863682, ('n03930630', 'pickup'): 39.31350395278423, ('n02974003', 'car_wheel'): 18.711260792100802, ('n03769881', 'minibus'): 17.131171015513246, ('n02930766', 'cab'): 13.629805975913769, ('n03459775', 'grille'): 12.177311282899609, ('n04461696', 'tow_truck'): 9.80451086978428, ('n03670208', 'limousine'): 8.07001467468217, ('n03594945', 'jeep'): 7.373673325404525, ('n03796401', 'moving_van'): 4.223249145783484, ('n04467665', 'trailer_truck'): 2.3135588552686386, ('n03977966', 'police_van'): 2.265487245749682, ('n03777568', 'Model_T'): 1.56696168333292, ('n02701002', 'ambulance'): 1.4688144152460154, ('n03444034', 'go-kart'): 1.4593272286729189, ('n03127747', 'crash_helmet'): 1.3868520440300927, ('n03445924', 'golfcart'): 1.21334264613688, ('n03417042', 'garbage_truck'): 1.1556122601032257, ('n04065272', 'recreational_vehicle'): 0.9771911778661888, ('n04252077', 'snowmobile'): 0.9715470174560323, ('n02965783', 'car_mirror'): 0.9491447182372212, ('n03478589', 'half_track'): 0.9400926493108273, ('n03000684', 'chain_saw'): 0.9199819378554821, ('n03791053', 'motor_scooter'): 0.9067837549373507, ('n03379051', 'football_helmet'): 0.902800440788269, ('n02950826', 'cannon'): 0.8665281534194946, ('n04252225', 'snowplow'): 0.6862807944417, ('n03196217', 'digital_clock'): 0.6539843082427979, ('n02690373', 'airliner'): 0.5851514153182507, ('n04465501', 'tractor'): 0.517219539731741, ('n03649909', 'lawn_mower'): 0.5154207367449999, ('n04442312', 'toaster'): 0.4947917629033327, ('n03888257', 'parachute'): 0.48380930721759796, ('n02977058', 'cash_machine'): 0.46494143828749657, ('n03895866', 'passenger_car'): 0.4388663230347447, ('n04517823', 'vacuum'): 0.4379954654723406, ('n03584829', 'iron'): 0.4050365695729852, ('n03345487', 'fire_engine'): 0.39534218795597553, ('n04009552', 'projector'): 0.34316155686974525, ('n10148035', 'groom'): 0.2636643350124359, ('n03255030', 'dumbbell'): 0.242964968085289, ('n03404251', 'fur_coat'): 0.2407762110233307, ('n03841143', 'odometer'): 0.23775693774223328, ('n02916936', 'bulletproof_vest'): 0.20878882706165314, ('n02860847', 'bobsled'): 0.20330229215323925, ('n03803284', 'muzzle'): 0.19761726260185242, ('n03476684', 'hair_slide'): 0.17462633550167084, ('n04356056', 'sunglasses'): 0.16584623605012894, ('n02841315', 'binoculars'): 0.16291906498372555, ('n02769748', 'backpack'): 0.15379662485793233, ('n04482393', 'tricycle'): 0.14422599412500858, ('n02747177', 'ashcan'): 0.1433727890253067, ('n03776460', 'mobile_home'): 0.14064233377575874, ('n03908714', 'pencil_sharpener'): 0.13699842803180218, ('n04149813', 'scoreboard'): 0.13245999813079834, ('n04310018', 'steam_locomotive'): 0.11941543221473694, ('n03954731', 'plane'): 0.11907342821359634, ('n02910353', 'buckle'): 0.11384275928139687, ('n03710193', 'mailbox'): 0.10725011676549911, ('n02165456', 'ladybug'): 0.10609700530767441, ('n02692877', 'airship'): 0.10469851642847061, ('n02782093', 'balloon'): 0.09774506464600563, ('n03483316', 'hand_blower'): 0.09630551934242249, ('n04552348', 'warplane'): 0.095494344830513, ('n04317175', 'stethoscope'): 0.09390515834093094, ('n03843555', 'oil_filter'): 0.09324311465024948, ('n06874185', 'traffic_light'): 0.08852464705705643, ('n04613696', 'yurt'): 0.08740384131669998, ('n03995372', 'power_drill'): 0.08416537940502167, ('n03208938', 'disk_brake'): 0.08223187178373337, ('n03916031', 'perfume'): 0.0801628977060318, ('n03967562', 'plow'): 0.0799627173691988, ('n04487081', 'trolleybus'): 0.07783103734254837, ('n04355933', 'sunglass'): 0.07781627029180527, ('n04392985', 'tape_player'): 0.07696057111024857, ('n04067472', 'reel'): 0.07673937827348709, ('n06359193', 'web_site'): 0.0729769803583622, ('n02988304', 'CD_player'): 0.07296285033226013, ('n03197337', 'digital_watch'): 0.06989505887031555, ('n03793489', 'mouse'): 0.06839795410633087, ('n04153751', 'screw'): 0.06641291081905365, ('n03384352', 'forklift'): 0.06610275618731976, ('n02992529', 'cellular_telephone'): 0.0657384917140007, ('n03599486', 'jinrikisha'): 0.06263026595115662, ('n03623198', 'knee_pad'): 0.06167377158999443, ('n04479046', 'trench_coat'): 0.06145958974957466, ('n04428191', 'thresher'): 0.05546135827898979, ('n03388043', 'fountain'): 0.052704181522130966, ('n03424325', 'gasmask'): 0.04616587609052658, ('n04557648', 'water_bottle'): 0.043725837022066116, ('n04372370', 'switch'): 0.041530363261699677, ('n04041544', 'radio'): 0.04115793853998184, ('n04008634', 'projectile'): 0.04078217316418886, ('n03691459', 'loudspeaker'): 0.040053024888038635, ('n03450230', 'gown'): 0.03969251736998558, ('n04286575', 'spotlight'): 0.038706570863723755, ('n02791124', 'barber_chair'): 0.03788687661290169, ('n03773504', 'missile'): 0.03743383660912514, ('n03045698', 'cloak'): 0.032776542007923126, ('n04033995', 'quilt'): 0.03248725086450577, ('n04162706', 'seat_belt'): 0.032098155468702316, ('n03291819', 'envelope'): 0.026584262028336525, ('n04266014', 'space_shuttle'): 0.02453216165304184, ('n04548280', 'wall_clock'): 0.022762026637792587, ('n03014705', 'chest'): 0.022030094638466835, ('n04462240', 'toyshop'): 0.018223505467176437, ('n02917067', 'bullet_train'): 0.018110867589712143, ('n03733281', 'maze'): 0.01590052619576454, ('n03763968', 'military_uniform'): 0.011879686266183853, ('n03785016', 'moped'): 0.00590964499861002, ('n03538406', 'horse_cart'): 0.004252070561051369, ('n02704792', 'amphibian'): 0.0031650664750486612})\n"
     ]
    }
   ],
   "source": [
    "cat_counter = get_car_categories('D://Data//CarDamage//data0//audi')\n",
    "print(1)\n",
    "cat_counter=cat_counter +(get_car_categories('D://Data//CarDamage//data0//ferari'))\n",
    "print(2)\n",
    "cat_counter=cat_counter +(get_car_categories('D://Data//CarDamage//data0//general'))\n",
    "print(3)\n",
    "cat_counter=cat_counter +(get_car_categories('D://Data//CarDamage//data0//maruti'))\n",
    "print(4)\n",
    "cat_counter=cat_counter +(get_car_categories('D://Data//CarDamage//data0//nissan'))\n",
    "print(5)\n",
    "cat_counter=cat_counter +(get_car_categories('D://Data//CarDamage//data0//toyota'))\n",
    "print(6)\n",
    "cat_counter=cat_counter +(get_car_categories('D://Data//CarDamage//data0//bmw'))\n",
    "print(cat_counter)"
   ]
  },
  {
   "cell_type": "code",
   "execution_count": 88,
   "metadata": {},
   "outputs": [],
   "source": [
    "with open('cat_counter.pk', 'wb') as f:\n",
    "    pk.dump(cat_counter,f,-1)"
   ]
  },
  {
   "cell_type": "markdown",
   "metadata": {},
   "source": [
    "### Load Pickle Point"
   ]
  },
  {
   "cell_type": "code",
   "execution_count": 89,
   "metadata": {},
   "outputs": [],
   "source": [
    "with open('cat_counter.pk', 'rb') as f:\n",
    "    cat_counter = pk.load(f)"
   ]
  },
  {
   "cell_type": "code",
   "execution_count": 90,
   "metadata": {},
   "outputs": [],
   "source": [
    "cat_list = [k for k, v in cat_counter.most_common()[:50]]"
   ]
  },
  {
   "cell_type": "markdown",
   "metadata": {},
   "source": [
    "## Evaluating Car Categories from Imagenet"
   ]
  },
  {
   "cell_type": "code",
   "execution_count": 209,
   "metadata": {
    "collapsed": true
   },
   "outputs": [],
   "source": [
    "def get_car_categories(cat_list):\n",
    "    img_list = os.listdir('data0')\n",
    "    num = 0\n",
    "    bad_list = []\n",
    "    for i, img_path in enumerate(img_list):\n",
    "        img = prepare_image('data0/'+img_path)\n",
    "        out = vgg16.predict(img)\n",
    "        top = get_predictions(out, top=5)\n",
    "        for j in top[0]:\n",
    "            if j[0:2] in cat_list:\n",
    "                num += 1\n",
    "                break # breaks out of for loop if one of top 50 categories is found\n",
    "            else:\n",
    "                pass\n",
    "            bad_list.append(img_path) # appends to \"bad list\" if none of the 50 are found\n",
    "        if i % 100 == 0:\n",
    "            print (i, '/', len(img_list), 'complete')\n",
    "    bad_list = [k for k, v in Counter(bad_list).iteritems() if v == 5]\n",
    "    return num, bad_list"
   ]
  },
  {
   "cell_type": "code",
   "execution_count": 179,
   "metadata": {
    "scrolled": true
   },
   "outputs": [
    {
     "name": "stdout",
     "output_type": "stream",
     "text": [
      "0 / 1309 complete\n",
      "50 / 1309 complete\n",
      "100 / 1309 complete\n",
      "150 / 1309 complete\n",
      "200 / 1309 complete\n",
      "250 / 1309 complete\n",
      "300 / 1309 complete\n",
      "350 / 1309 complete\n",
      "400 / 1309 complete\n",
      "450 / 1309 complete\n",
      "500 / 1309 complete\n",
      "550 / 1309 complete\n",
      "600 / 1309 complete\n",
      "650 / 1309 complete\n",
      "700 / 1309 complete\n",
      "750 / 1309 complete\n",
      "800 / 1309 complete\n",
      "850 / 1309 complete\n",
      "900 / 1309 complete\n",
      "950 / 1309 complete\n",
      "1000 / 1309 complete\n",
      "1050 / 1309 complete\n",
      "1100 / 1309 complete\n",
      "1150 / 1309 complete\n",
      "1200 / 1309 complete\n",
      "1250 / 1309 complete\n",
      "1300 / 1309 complete\n"
     ]
    }
   ],
   "source": [
    "number, bad_list = get_car_categories(cat_list)"
   ]
  },
  {
   "cell_type": "code",
   "execution_count": 210,
   "metadata": {},
   "outputs": [
    {
     "name": "stdout",
     "output_type": "stream",
     "text": [
      "0 / 1309 complete\n",
      "100 / 1309 complete\n",
      "200 / 1309 complete\n",
      "300 / 1309 complete\n",
      "400 / 1309 complete\n",
      "500 / 1309 complete\n",
      "600 / 1309 complete\n",
      "700 / 1309 complete\n",
      "800 / 1309 complete\n",
      "900 / 1309 complete\n",
      "1000 / 1309 complete\n",
      "1100 / 1309 complete\n",
      "1200 / 1309 complete\n",
      "1300 / 1309 complete\n"
     ]
    }
   ],
   "source": [
    "number2, bad_list2 = car_categories_gate(cat_list2)"
   ]
  },
  {
   "cell_type": "code",
   "execution_count": 212,
   "metadata": {},
   "outputs": [
    {
     "data": {
      "text/plain": [
       "2"
      ]
     },
     "execution_count": 212,
     "metadata": {},
     "output_type": "execute_result"
    }
   ],
   "source": [
    "number2, bad_list2 = car_categories_gate(cat_list2)"
   ]
  },
  {
   "cell_type": "markdown",
   "metadata": {},
   "source": [
    "## Select top 50 as cutoff for category list"
   ]
  },
  {
   "cell_type": "code",
   "execution_count": 202,
   "metadata": {
    "collapsed": true
   },
   "outputs": [],
   "source": [
    "def view_images(img_dir, img_list):\n",
    "    for img in img_list:\n",
    "        clear_output()\n",
    "        display(Image(img_dir+img))\n",
    "        num = raw_input(\"c to continue, q to quit\")\n",
    "        if num == 'c':\n",
    "            pass\n",
    "        else:\n",
    "            return 'Finished for now.'"
   ]
  },
  {
   "cell_type": "code",
   "execution_count": 222,
   "metadata": {},
   "outputs": [
    {
     "data": {
      "image/jpeg": "[encoded data removed]",
      "text/plain": [
       "<IPython.core.display.Image object>"
      ]
     },
     "metadata": {},
     "output_type": "display_data"
    },
    {
     "name": "stdout",
     "output_type": "stream",
     "text": [
      "c to continue, q to quitq\n"
     ]
    },
    {
     "data": {
      "text/plain": [
       "'Finished for now.'"
      ]
     },
     "execution_count": 222,
     "metadata": {},
     "output_type": "execute_result"
    }
   ],
   "source": [
    "view_images('data0/', bad_list)"
   ]
  },
  {
   "cell_type": "code",
   "execution_count": 213,
   "metadata": {},
   "outputs": [
    {
     "data": {
      "image/jpeg": "[encoded data removed]",
      "text/plain": [
       "<IPython.core.display.Image object>"
      ]
     },
     "metadata": {},
     "output_type": "display_data"
    },
    {
     "name": "stdout",
     "output_type": "stream",
     "text": [
      "c to continue, q to quitc\n"
     ]
    }
   ],
   "source": [
    "view_images('data0/', bad_list2)"
   ]
  },
  {
   "cell_type": "markdown",
   "metadata": {},
   "source": [
    "## Gate Implementation"
   ]
  },
  {
   "cell_type": "code",
   "execution_count": 16,
   "metadata": {
    "collapsed": true
   },
   "outputs": [],
   "source": [
    "def car_categories_gate(image_path, cat_list):\n",
    "    urllib.urlretrieve(image_path, 'save.jpg') # or other way to upload image\n",
    "    img = prepare_image('save.jpg')\n",
    "    out = vgg16.predict(img)\n",
    "    top = get_predictions(out, top=5)\n",
    "    print \"Validating that this is a picture of your car...\"\n",
    "    for j in top[0]:\n",
    "        if j[0:2] in cat_list:\n",
    "            print j[0:2]\n",
    "            return \"Validation complete - proceed to damage evaluation\"\n",
    "    return \"Are you sure this is a picture of your car? Please take another picture (try a different angle or lighting) and try again.\""
   ]
  },
  {
   "cell_type": "code",
   "execution_count": 17,
   "metadata": {},
   "outputs": [
    {
     "name": "stdout",
     "output_type": "stream",
     "text": [
      "Validating that this is a picture of your car...\n",
      "(u'n02930766', u'cab')\n"
     ]
    },
    {
     "data": {
      "text/plain": [
       "'Validation complete - proceed to damage evaluation'"
      ]
     },
     "execution_count": 17,
     "metadata": {},
     "output_type": "execute_result"
    }
   ],
   "source": [
    "car_categories_gate('https://encrypted-tbn1.gstatic.com/images?q=tbn:ANd9GcSxhKhaSwPgdQkrDegC6sbUALBF9SiW6tDKg6dLDYj83e19krxy', cat_list)"
   ]
  },
  {
   "cell_type": "code",
   "execution_count": 20,
   "metadata": {},
   "outputs": [
    {
     "name": "stdout",
     "output_type": "stream",
     "text": [
      "Validating that this is a picture of your car...\n",
      "(u'n03445924', u'golfcart')\n"
     ]
    },
    {
     "data": {
      "text/plain": [
       "'Validation complete - proceed to damage evaluation'"
      ]
     },
     "execution_count": 20,
     "metadata": {},
     "output_type": "execute_result"
    }
   ],
   "source": [
    "car_categories_gate('https://encrypted-tbn0.gstatic.com/images?q=tbn:ANd9GcS7xHO3j12Xk4q4eaQUL1A02k1HrJ9G_RY6tj-4h-07EfdML6YL', cat_list)"
   ]
  }
 ],
 "metadata": {
  "anaconda-cloud": {},
  "kernelspec": {
   "display_name": "Python 3",
   "language": "python",
   "name": "python3"
  },
  "language_info": {
   "codemirror_mode": {
    "name": "ipython",
    "version": 3
   },
   "file_extension": ".py",
   "mimetype": "text/x-python",
   "name": "python",
   "nbconvert_exporter": "python",
   "pygments_lexer": "ipython3",
   "version": "3.6.5"
  }
 },
 "nbformat": 4,
 "nbformat_minor": 1
}
